{
  "nbformat": 4,
  "nbformat_minor": 0,
  "metadata": {
    "colab": {
      "provenance": []
    },
    "kernelspec": {
      "name": "python3",
      "display_name": "Python 3"
    },
    "language_info": {
      "name": "python"
    }
  },
  "cells": [
    {
      "cell_type": "markdown",
      "source": [
        "## **Module 1**"
      ],
      "metadata": {
        "id": "l0KB7I2hCuzl"
      }
    },
    {
      "cell_type": "code",
      "execution_count": 1,
      "metadata": {
        "colab": {
          "base_uri": "https://localhost:8080/"
        },
        "id": "nmOShNIYYI-S",
        "outputId": "2ad7b48b-b4c6-4bc1-c784-3f73f8a99ec3"
      },
      "outputs": [
        {
          "output_type": "stream",
          "name": "stdout",
          "text": [
            "Collecting openai\n",
            "  Downloading openai-0.28.1-py3-none-any.whl (76 kB)\n",
            "\u001b[?25l     \u001b[90m━━━━━━━━━━━━━━━━━━━━━━━━━━━━━━━━━━━━━━━━\u001b[0m \u001b[32m0.0/77.0 kB\u001b[0m \u001b[31m?\u001b[0m eta \u001b[36m-:--:--\u001b[0m\r\u001b[2K     \u001b[91m━━━━━━━━━━━━━━━━━━━━━━━━━━━━━━━━━━━━━\u001b[0m\u001b[90m╺\u001b[0m\u001b[90m━━\u001b[0m \u001b[32m71.7/77.0 kB\u001b[0m \u001b[31m2.1 MB/s\u001b[0m eta \u001b[36m0:00:01\u001b[0m\r\u001b[2K     \u001b[90m━━━━━━━━━━━━━━━━━━━━━━━━━━━━━━━━━━━━━━━━\u001b[0m \u001b[32m77.0/77.0 kB\u001b[0m \u001b[31m1.8 MB/s\u001b[0m eta \u001b[36m0:00:00\u001b[0m\n",
            "\u001b[?25hRequirement already satisfied: requests>=2.20 in /usr/local/lib/python3.10/dist-packages (from openai) (2.31.0)\n",
            "Requirement already satisfied: tqdm in /usr/local/lib/python3.10/dist-packages (from openai) (4.66.1)\n",
            "Requirement already satisfied: aiohttp in /usr/local/lib/python3.10/dist-packages (from openai) (3.8.5)\n",
            "Requirement already satisfied: charset-normalizer<4,>=2 in /usr/local/lib/python3.10/dist-packages (from requests>=2.20->openai) (3.2.0)\n",
            "Requirement already satisfied: idna<4,>=2.5 in /usr/local/lib/python3.10/dist-packages (from requests>=2.20->openai) (3.4)\n",
            "Requirement already satisfied: urllib3<3,>=1.21.1 in /usr/local/lib/python3.10/dist-packages (from requests>=2.20->openai) (2.0.4)\n",
            "Requirement already satisfied: certifi>=2017.4.17 in /usr/local/lib/python3.10/dist-packages (from requests>=2.20->openai) (2023.7.22)\n",
            "Requirement already satisfied: attrs>=17.3.0 in /usr/local/lib/python3.10/dist-packages (from aiohttp->openai) (23.1.0)\n",
            "Requirement already satisfied: multidict<7.0,>=4.5 in /usr/local/lib/python3.10/dist-packages (from aiohttp->openai) (6.0.4)\n",
            "Requirement already satisfied: async-timeout<5.0,>=4.0.0a3 in /usr/local/lib/python3.10/dist-packages (from aiohttp->openai) (4.0.3)\n",
            "Requirement already satisfied: yarl<2.0,>=1.0 in /usr/local/lib/python3.10/dist-packages (from aiohttp->openai) (1.9.2)\n",
            "Requirement already satisfied: frozenlist>=1.1.1 in /usr/local/lib/python3.10/dist-packages (from aiohttp->openai) (1.4.0)\n",
            "Requirement already satisfied: aiosignal>=1.1.2 in /usr/local/lib/python3.10/dist-packages (from aiohttp->openai) (1.3.1)\n",
            "Installing collected packages: openai\n",
            "Successfully installed openai-0.28.1\n"
          ]
        }
      ],
      "source": [
        "!pip install openai"
      ]
    },
    {
      "cell_type": "code",
      "source": [
        "import openai\n",
        "api_key = \"your API key here\"\n",
        "openai.api_key = api_key"
      ],
      "metadata": {
        "id": "O9IDQn5ZZ1p6"
      },
      "execution_count": 2,
      "outputs": []
    },
    {
      "cell_type": "code",
      "source": [
        "# Test your connection\n",
        "prompt = \"Translate the following English text to French: 'Data Science is fun!'\"\n",
        "\n",
        "# Generate text using GPT-3.5\n",
        "response = openai.Completion.create(\n",
        "    engine=\"text-davinci-003\",\n",
        "    prompt=prompt,\n",
        "    max_tokens=50\n",
        ")\n",
        "\n",
        "# Print the generated text\n",
        "print(response.choices[0].text.strip())\n"
      ],
      "metadata": {
        "colab": {
          "base_uri": "https://localhost:8080/"
        },
        "id": "BxwwCB7UjdIu",
        "outputId": "63ae6308-28b8-4f42-dcd5-4119c2eb8d91"
      },
      "execution_count": 3,
      "outputs": [
        {
          "output_type": "stream",
          "name": "stdout",
          "text": [
            "\"La science des données est amusante!\"\n"
          ]
        }
      ]
    },
    {
      "cell_type": "markdown",
      "source": [
        "## Module 2"
      ],
      "metadata": {
        "id": "M8HDmccnC11c"
      }
    },
    {
      "cell_type": "code",
      "source": [
        "prompt = \"Measures of central tendency in statistics refers to \"\n",
        "\n",
        "# Generate text using GPT-3\n",
        "response = openai.Completion.create(\n",
        "    engine=\"text-davinci-003\",  # Use the desired engine\n",
        "    prompt=prompt,\n",
        "    max_tokens=50  # Adjust the length of generated text\n",
        ")\n",
        "\n",
        "# Print the generated text\n",
        "print(response.choices)\n"
      ],
      "metadata": {
        "colab": {
          "base_uri": "https://localhost:8080/"
        },
        "id": "q8dKuEJeKVW4",
        "outputId": "277bd69d-0844-4343-ce16-fdfe1b86704a"
      },
      "execution_count": 4,
      "outputs": [
        {
          "output_type": "stream",
          "name": "stdout",
          "text": [
            "[<OpenAIObject at 0x7eadea604a40> JSON: {\n",
            "  \"text\": \" measures that attempt to describe the center of a dataset. These measures, usually a single number, are known as statistics. Common measures of central tendency include the mean, median, and mode. Other less-common measures of central tendency can also be used\",\n",
            "  \"index\": 0,\n",
            "  \"logprobs\": null,\n",
            "  \"finish_reason\": \"length\"\n",
            "}]\n"
          ]
        }
      ]
    },
    {
      "cell_type": "code",
      "source": [
        "print(response.choices[0].text.strip())"
      ],
      "metadata": {
        "colab": {
          "base_uri": "https://localhost:8080/"
        },
        "id": "a_lIBqUMKVaB",
        "outputId": "55cd273d-4ac8-4067-fdf3-619442b3465e"
      },
      "execution_count": 5,
      "outputs": [
        {
          "output_type": "stream",
          "name": "stdout",
          "text": [
            "measures that attempt to describe the center of a dataset. These measures, usually a single number, are known as statistics. Common measures of central tendency include the mean, median, and mode. Other less-common measures of central tendency can also be used\n"
          ]
        }
      ]
    },
    {
      "cell_type": "code",
      "source": [],
      "metadata": {
        "id": "Nof24mRGKpCM"
      },
      "execution_count": null,
      "outputs": []
    },
    {
      "cell_type": "markdown",
      "source": [
        "## Module 3"
      ],
      "metadata": {
        "id": "MOs6FrTODol5"
      }
    },
    {
      "cell_type": "code",
      "source": [],
      "metadata": {
        "id": "seWId_7HKpF4"
      },
      "execution_count": null,
      "outputs": []
    },
    {
      "cell_type": "code",
      "source": [
        "messages = [\n",
        "    {\"role\": \"system\", \"content\": \"You are a data science tutor that answers questions from students\"},\n",
        "    {\"role\": \"user\", \"content\": \"what is supervised machine learning\"},\n",
        "    {\"role\": \"assistant\", \"content\": \"you always start a conversation with the phrase, 'Thanks for asking this question!\" }\n",
        "]"
      ],
      "metadata": {
        "id": "spEr1fktKVc4"
      },
      "execution_count": 6,
      "outputs": []
    },
    {
      "cell_type": "code",
      "source": [
        "response = openai.ChatCompletion.create(\n",
        "    model = \"gpt-3.5-turbo\",  # Use the desired engine\n",
        "    messages = messages,\n",
        ")"
      ],
      "metadata": {
        "id": "jU2M_MtwLYtO"
      },
      "execution_count": null,
      "outputs": []
    },
    {
      "cell_type": "code",
      "source": [
        "print(response.choices)"
      ],
      "metadata": {
        "colab": {
          "base_uri": "https://localhost:8080/"
        },
        "id": "xyP_WpT8KoUo",
        "outputId": "80f9ca8f-f4f2-44d4-c4ba-8b4ebd283b20"
      },
      "execution_count": null,
      "outputs": [
        {
          "output_type": "stream",
          "name": "stdout",
          "text": [
            "[<OpenAIObject at 0x7c4772721ee0> JSON: {\n",
            "  \"index\": 0,\n",
            "  \"message\": {\n",
            "    \"role\": \"assistant\",\n",
            "    \"content\": \"Thanks for asking this question! \\n\\nSupervised machine learning is a type of machine learning algorithm where you have a labeled dataset, meaning you have both input data and the corresponding output or target variable. The goal of supervised learning is to learn a mapping between the input variables and the output variable. \\n\\nThe process typically involves training a model on a labeled dataset, where the model learns patterns and relationships between the input features and the output variable. Once the model is trained, it can make predictions on new, unseen data by applying the learned patterns.\\n\\nSome common examples of supervised learning algorithms include linear regression, decision trees, random forests, support vector machines, and neural networks.\\n\\nSupervised learning is widely used in various applications such as image classification, sentiment analysis, spam detection, fraud detection, and many more.\"\n",
            "  },\n",
            "  \"finish_reason\": \"stop\"\n",
            "}]\n"
          ]
        }
      ]
    },
    {
      "cell_type": "code",
      "source": [
        "# Print the generated text\n",
        "print(response.choices[0]['message']['content'])"
      ],
      "metadata": {
        "colab": {
          "base_uri": "https://localhost:8080/"
        },
        "id": "GFXpql_pKoXv",
        "outputId": "64dfdbed-bf76-43b0-9c21-d9e92223f2cc"
      },
      "execution_count": null,
      "outputs": [
        {
          "output_type": "stream",
          "name": "stdout",
          "text": [
            "Thanks for asking this question! \n",
            "\n",
            "Supervised machine learning is a type of machine learning algorithm where you have a labeled dataset, meaning you have both input data and the corresponding output or target variable. The goal of supervised learning is to learn a mapping between the input variables and the output variable. \n",
            "\n",
            "The process typically involves training a model on a labeled dataset, where the model learns patterns and relationships between the input features and the output variable. Once the model is trained, it can make predictions on new, unseen data by applying the learned patterns.\n",
            "\n",
            "Some common examples of supervised learning algorithms include linear regression, decision trees, random forests, support vector machines, and neural networks.\n",
            "\n",
            "Supervised learning is widely used in various applications such as image classification, sentiment analysis, spam detection, fraud detection, and many more.\n"
          ]
        }
      ]
    },
    {
      "cell_type": "code",
      "source": [],
      "metadata": {
        "id": "XLfptndQKoan"
      },
      "execution_count": null,
      "outputs": []
    },
    {
      "cell_type": "code",
      "source": [
        "messages = [\n",
        "    {\"role\": \"system\", \"content\": \"You are a data science tutor that answers questions from students.\"},\n",
        "    {\"role\": \"user\", \"content\": \"What is supervised machine learning?\"},\n",
        "    {\"role\": \"assistant\", \"content\": \"Thanks for asking this question! Supervised machine learning is...\"},\n",
        "    {\"role\": \"user\", \"content\": \"Can you provide an example?\"}\n",
        "]\n"
      ],
      "metadata": {
        "id": "stUaO7bNNYIo"
      },
      "execution_count": 7,
      "outputs": []
    },
    {
      "cell_type": "code",
      "source": [
        "response = openai.ChatCompletion.create(\n",
        "    model = \"gpt-3.5-turbo\",  # Use the desired engine\n",
        "    messages = messages,\n",
        ")\n",
        "\n",
        "# Print the generated text\n",
        "print(response.choices[0]['message']['content'])"
      ],
      "metadata": {
        "colab": {
          "base_uri": "https://localhost:8080/"
        },
        "id": "czaQQFW6NYPM",
        "outputId": "c6f46eb1-c879-4c12-ec53-4e518152379d"
      },
      "execution_count": 8,
      "outputs": [
        {
          "output_type": "stream",
          "name": "stdout",
          "text": [
            "Certainly! Let's consider an example of supervised machine learning in the context of classifying emails as either spam or not spam. \n",
            "\n",
            "To train a supervised machine learning model, we would first gather a labeled dataset, which means we have a set of emails where each email is annotated as either spam or not spam. The features of these emails could include information like the sender, subject, body text, attachments, etc. \n",
            "\n",
            "We would then use this labeled dataset to train our model, using a supervised learning algorithm such as logistic regression, decision trees, or support vector machines. During the training process, the model learns to identify patterns and relationships between the email features and their corresponding labels (spam or not spam).\n",
            "\n",
            "Once the model is trained, we can use it to predict the label (spam or not spam) of new, unseen emails. The model can analyze the features of these new emails and classify them accordingly, based on what it has learned from the training data.\n",
            "\n",
            "Supervised machine learning is widely used in various applications such as image classification, sentiment analysis, fraud detection, and speech recognition, to name just a few.\n"
          ]
        }
      ]
    },
    {
      "cell_type": "code",
      "source": [],
      "metadata": {
        "id": "hxsb3jsrNYSR"
      },
      "execution_count": null,
      "outputs": []
    },
    {
      "cell_type": "markdown",
      "source": [
        "## Module 4"
      ],
      "metadata": {
        "id": "IMZXqteWEsut"
      }
    },
    {
      "cell_type": "code",
      "source": [
        "def generate_response(question):\n",
        "    try:\n",
        "        # Construct the prompt\n",
        "        prompt = f\"Answer the following question: {question}\"\n",
        "\n",
        "        # Generate text using GPT-3.5\n",
        "        response = openai.Completion.create(\n",
        "            engine=\"text-davinci-003\",\n",
        "            prompt=prompt,\n",
        "            max_tokens=5100  # Adjust as needed\n",
        "        )\n",
        "\n",
        "        # Print the generated text (assistant's response)\n",
        "        print(response.choices[0].text.strip())\n",
        "    except Exception as e:\n",
        "        print(f\"An error occurred: {str(e)}\")\n",
        "\n",
        "# Example:\n",
        "try:\n",
        "    generate_response(\"What is the difference between mean and median in statistics?\")\n",
        "except Exception as e:\n",
        "    print(f\"An error occurred: {str(e)}\")"
      ],
      "metadata": {
        "id": "LnFb_entKoeB",
        "colab": {
          "base_uri": "https://localhost:8080/"
        },
        "outputId": "b5f3ea3b-8bf4-46b5-9b56-f20ea4a966e0"
      },
      "execution_count": null,
      "outputs": [
        {
          "output_type": "stream",
          "name": "stdout",
          "text": [
            "An error occurred: This model's maximum context length is 4097 tokens, however you requested 5116 tokens (16 in your prompt; 5100 for the completion). Please reduce your prompt; or completion length.\n"
          ]
        }
      ]
    },
    {
      "cell_type": "code",
      "source": [
        "def generate_response(question):\n",
        "    try:\n",
        "        # Construct the prompt\n",
        "        prompt = f\"Answer the following question: {question}\"\n",
        "\n",
        "        # Generate text using GPT-3.5\n",
        "        response = openai.Completion.create(\n",
        "            engine=\"text-davinci-003\",\n",
        "            prompt=prompt,\n",
        "            max_tokens=50  # Adjust as needed\n",
        "        )\n",
        "\n",
        "        # Print the generated text (assistant's response)\n",
        "        print(response.choices[0].text.strip())\n",
        "    except Exception as e:\n",
        "        print(f\"An error occurred: {str(e)}\")\n",
        "\n",
        "# Example:\n",
        "try:\n",
        "    generate_response(\"What is the difference between mean and median in statistics?\")\n",
        "except Exception as e:\n",
        "    print(f\"An error occurred: {str(e)}\")"
      ],
      "metadata": {
        "colab": {
          "base_uri": "https://localhost:8080/"
        },
        "id": "5VyzHNBht7DP",
        "outputId": "d8d5b778-276b-4643-9a43-424fd8600dae"
      },
      "execution_count": null,
      "outputs": [
        {
          "output_type": "stream",
          "name": "stdout",
          "text": [
            "The mean is the arithmetic average of a set of values, while the median is the middle value in a set of values. The mean is affected by outliers, while the median is not. The mean is usually a better measure of central\n"
          ]
        }
      ]
    },
    {
      "cell_type": "code",
      "source": [],
      "metadata": {
        "id": "GAK3MRcduFZJ"
      },
      "execution_count": null,
      "outputs": []
    }
  ]
}